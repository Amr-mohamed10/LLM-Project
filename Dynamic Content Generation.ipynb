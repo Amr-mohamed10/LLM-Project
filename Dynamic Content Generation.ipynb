{
 "cells": [
  {
   "cell_type": "code",
   "execution_count": 1,
   "id": "1f4424dc",
   "metadata": {},
   "outputs": [
    {
     "name": "stdout",
     "output_type": "stream",
     "text": [
      "Requirement already satisfied: PyMuPDF in c:\\users\\amr\\anaconda3\\lib\\site-packages (1.24.7)\n",
      "Requirement already satisfied: PyMuPDFb==1.24.6 in c:\\users\\amr\\anaconda3\\lib\\site-packages (from PyMuPDF) (1.24.6)\n"
     ]
    }
   ],
   "source": [
    "# Step 1: Install Necessary Libraries\n",
    "!pip install PyMuPDF\n"
   ]
  },
  {
   "cell_type": "code",
   "execution_count": 2,
   "id": "ebd2afdc",
   "metadata": {},
   "outputs": [],
   "source": [
    "# Step 2: Extract Text from the PDF\n",
    "import fitz  # PyMuPDF is imported as fitz\n",
    "\n",
    "# Path to the PDF file\n",
    "pdf_path = 'Environmental Factors.pdf'\n",
    "\n",
    "# Open the PDF file using PyMuPDF\n",
    "pdf_document = fitz.open(pdf_path)\n",
    "\n",
    "# Initialize an empty string to store the extracted text\n",
    "pdf_text = \"\"\n",
    "# Loop through each page in the PDF document\n",
    "for page_num in range(pdf_document.page_count):\n",
    "    page = pdf_document.load_page(page_num)  # Load the current page\n",
    "    pdf_text += page.get_text()  # Append the text of the current page to pdf_text\n",
    "\n"
   ]
  },
  {
   "cell_type": "code",
   "execution_count": 3,
   "id": "00c044ac",
   "metadata": {},
   "outputs": [
    {
     "name": "stdout",
     "output_type": "stream",
     "text": [
      "Environmental Factors and Pollution in Egypt:  \n",
      "Egypt, a land of towering pyramids and ancient wonders, boasts a unique environment \n",
      "shaped by a complex interplay of living (biotic) and nonliving (abiotic) factors. \n",
      "Understanding these factors is crucial for appreciating the delicate ecological balance of \n",
      "Egypt and the challenges it faces. \n",
      "A Land of Contrasts: Biotic Abundance and Aridity \n",
      "Despite the harsh desert climate, Egypt supports a diverse range of plant and animal \n",
      "life. Acacia trees with their water-conserving adaptations thrive in the desert sands, \n",
      "while along the life-giving Nile River, papyrus reeds and date palms flourish, providing \n",
      "food and shelter for a variety of animals. These vibrant ecosystems demonstrate the \n",
      "remarkable resilience of life in Egypt. \n",
      "The Nile River: A Lifeline for Egypt \n",
      "The Nile River is the heart of Egypt's ecosystem, a vital artery that has sustained human \n",
      "populations and agriculture for millennia. Its annual floods once deposited fertile silt, \n",
      "creating the Nile Delta, a crucial agricultural region. This fertile ribbon of land amidst the \n",
      "vast desert underscores the Nile's importance for life in Egypt. However, the \n",
      "construction of dams has altered the natural flood cycle, impacting the replenishment of \n",
      "fertile soils and reducing the flow of nutrients into the Mediterranean Sea, which in turn \n",
      "affects marine life. \n",
      "A Tapestry of Biodiversity and Conservation Efforts \n",
      "Nature's Bounty: A Rich tapestry of Life \n",
      "Despite the arid climate, Egypt is home to a surprising diversity of plant and animal life. \n",
      "The Red Sea, bordering eastern Egypt, boasts vibrant coral reefs teeming with marine \n",
      "life. These reefs are vital ecosystems, providing food and shelter for diverse marine \n",
      "species and protecting coastlines from erosion. Their loss would have a devastating \n",
      "impact on marine biodiversity and local economies dependent on tourism and fishing. \n",
      "Protecting Nature's Treasures: Conservation Initiatives \n",
      "Recognizing the importance o\n"
     ]
    }
   ],
   "source": [
    "# Print the first 2000 characters of the extracted text for verification\n",
    "print(pdf_text[:2000])  # Printing only the first 2000 characters for brevity\n"
   ]
  },
  {
   "cell_type": "code",
   "execution_count": 4,
   "id": "eea915c4",
   "metadata": {},
   "outputs": [],
   "source": [
    "# Step 3: Identify and Extract KPIs\n",
    "import re\n",
    "\n",
    "def extract_kpis(text):\n",
    "    # Example regex patterns to identify KPIs\n",
    "    kpi_patterns = {\n",
    "        'length_of_nile': r'6,650 kilometers',\n",
    "        'nile_discharge': r'2,830 cubic meters per second',\n",
    "    }\n",
    "    \n",
    "    kpis = {}\n",
    "    for kpi_name, pattern in kpi_patterns.items():\n",
    "        match = re.search(pattern, text)\n",
    "        if match:\n",
    "            kpis[kpi_name] = match.group()\n",
    "    \n",
    "    return kpis\n",
    "\n"
   ]
  },
  {
   "cell_type": "code",
   "execution_count": 5,
   "id": "aa60c6a3",
   "metadata": {},
   "outputs": [
    {
     "name": "stdout",
     "output_type": "stream",
     "text": [
      "Extracted KPIs: {'length_of_nile': '6,650 kilometers', 'nile_discharge': '2,830 cubic meters per second'}\n"
     ]
    }
   ],
   "source": [
    "kpis = extract_kpis(pdf_text)\n",
    "print(\"Extracted KPIs:\", kpis)\n"
   ]
  },
  {
   "cell_type": "code",
   "execution_count": 6,
   "id": "964148a1",
   "metadata": {},
   "outputs": [
    {
     "name": "stdout",
     "output_type": "stream",
     "text": [
      "Enter the updated value for length_of_nile (current value: 6,650 kilometers): 10,500 Kilometers\n",
      "Enter the updated value for nile_discharge (current value: 2,830 cubic meters per second): 3,500 cubic meters per second\n"
     ]
    }
   ],
   "source": [
    "# Step 4: Allow User Input for Updated KPI Values\n",
    "updated_kpis = {}\n",
    "for kpi in kpis:\n",
    "    new_value = input(f\"Enter the updated value for {kpi} (current value: {kpis[kpi]}): \")\n",
    "    updated_kpis[kpi] = new_value\n"
   ]
  },
  {
   "cell_type": "code",
   "execution_count": 7,
   "id": "271868c8",
   "metadata": {},
   "outputs": [
    {
     "name": "stdout",
     "output_type": "stream",
     "text": [
      "Updated KPIs: {'length_of_nile': '10,500 Kilometers', 'nile_discharge': '3,500 cubic meters per second'}\n"
     ]
    }
   ],
   "source": [
    "print(\"Updated KPIs:\", updated_kpis)\n"
   ]
  },
  {
   "cell_type": "code",
   "execution_count": 8,
   "id": "71e10881",
   "metadata": {},
   "outputs": [],
   "source": [
    "# Step 5: Adjust Paragraphs Dynamically and Show Only Updated Parts\n",
    "def update_text_with_kpis(text, kpis, updated_kpis):\n",
    "    updated_parts = {}\n",
    "    context_length = 100  # Length of context around the updated KPI value\n",
    "    for kpi_name in kpis:\n",
    "        if kpis[kpi_name] != updated_kpis[kpi_name]:\n",
    "            updated_part = text.replace(kpis[kpi_name], updated_kpis[kpi_name])\n",
    "            index_start = updated_part.find(updated_kpis[kpi_name])\n",
    "            context_start = max(0, index_start - context_length)\n",
    "            context_end = min(len(updated_part), index_start + len(updated_kpis[kpi_name]) + context_length)\n",
    "            context = updated_part[context_start:context_end]\n",
    "            \n",
    "            updated_parts[kpi_name] = {\n",
    "                'old': kpis[kpi_name],\n",
    "                'new': updated_kpis[kpi_name],\n",
    "                'context': context\n",
    "            }\n",
    "            text = updated_part\n",
    "    return updated_parts\n",
    "\n",
    "updated_parts = update_text_with_kpis(pdf_text, kpis, updated_kpis)\n",
    "\n"
   ]
  },
  {
   "cell_type": "code",
   "execution_count": 9,
   "id": "94ebf87e",
   "metadata": {},
   "outputs": [
    {
     "name": "stdout",
     "output_type": "stream",
     "text": [
      "\n",
      "KPI: length_of_nile\n",
      "Old Value: 6,650 kilometers\n",
      "New Value: 10,500 Kilometers\n",
      "Context: ...e Nile's Grandeur \n",
      "The Mighty Nile: Unveiling its Grandeur in Numbers \n",
      "Stretching for an impressive 10,500 Kilometers (4,132 miles), the Nile River is the longest \n",
      "river in Africa. With an average discharge of 2,830 c...\n",
      "\n",
      "\n",
      "KPI: nile_discharge\n",
      "Old Value: 2,830 cubic meters per second\n",
      "New Value: 3,500 cubic meters per second\n",
      "Context: ...ometers (4,132 miles), the Nile River is the longest \n",
      "river in Africa. With an average discharge of 3,500 cubic meters per second (99,500 \n",
      "cubic feet per second), it is a significant source of freshwater for Egypt. The Nile Delta...\n",
      "\n"
     ]
    }
   ],
   "source": [
    "for kpi_name, changes in updated_parts.items():\n",
    "    print(f\"\\nKPI: {kpi_name}\")\n",
    "    print(f\"Old Value: {changes['old']}\")\n",
    "    print(f\"New Value: {changes['new']}\")\n",
    "    print(f\"Context: ...{changes['context']}...\\n\")\n"
   ]
  },
  {
   "cell_type": "code",
   "execution_count": null,
   "id": "e9fd4176",
   "metadata": {},
   "outputs": [],
   "source": []
  },
  {
   "cell_type": "code",
   "execution_count": null,
   "id": "b8296139",
   "metadata": {},
   "outputs": [],
   "source": []
  }
 ],
 "metadata": {
  "kernelspec": {
   "display_name": "Python (ai-env)",
   "language": "python",
   "name": "ai-env"
  },
  "language_info": {
   "codemirror_mode": {
    "name": "ipython",
    "version": 3
   },
   "file_extension": ".py",
   "mimetype": "text/x-python",
   "name": "python",
   "nbconvert_exporter": "python",
   "pygments_lexer": "ipython3",
   "version": "3.10.11"
  }
 },
 "nbformat": 4,
 "nbformat_minor": 5
}
